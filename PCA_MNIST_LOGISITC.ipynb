{
 "cells": [
  {
   "cell_type": "code",
   "execution_count": 57,
   "metadata": {},
   "outputs": [],
   "source": [
    "from sklearn.datasets import fetch_mldata\n",
    "from sklearn.decomposition import PCA\n",
    "from sklearn.preprocessing import StandardScaler\n",
    "from sklearn import metrics\n",
    "from sklearn.model_selection import train_test_split\n",
    "import pandas as pd\n",
    "import mnist"
   ]
  },
  {
   "cell_type": "code",
   "execution_count": 58,
   "metadata": {},
   "outputs": [],
   "source": [
    "train_image = mnist.train_images()\n",
    "train_labels = mnist.train_labels()\n",
    "test_image = mnist.test_images()\n",
    "test_labels = mnist.test_labels()"
   ]
  },
  {
   "cell_type": "code",
   "execution_count": 69,
   "metadata": {},
   "outputs": [],
   "source": [
    "train_img = mnist.train_images()\n",
    "train_lbl = mnist.train_labels()\n",
    "test_img = mnist.test_images()\n",
    "test_lbl = mnist.test_labels()"
   ]
  },
  {
   "cell_type": "code",
   "execution_count": 70,
   "metadata": {},
   "outputs": [],
   "source": [
    "#print(train_img.shape)"
   ]
  },
  {
   "cell_type": "code",
   "execution_count": 71,
   "metadata": {},
   "outputs": [],
   "source": [
    "train_img = train_img.reshape((-1, 784))"
   ]
  },
  {
   "cell_type": "code",
   "execution_count": 72,
   "metadata": {},
   "outputs": [
    {
     "data": {
      "text/plain": [
       "(60000, 784)"
      ]
     },
     "execution_count": 72,
     "metadata": {},
     "output_type": "execute_result"
    }
   ],
   "source": [
    "train_img.shape"
   ]
  },
  {
   "cell_type": "code",
   "execution_count": 73,
   "metadata": {},
   "outputs": [],
   "source": [
    "#print(train_lbl.shape)"
   ]
  },
  {
   "cell_type": "code",
   "execution_count": 74,
   "metadata": {},
   "outputs": [],
   "source": [
    "#print(test_img.shape)"
   ]
  },
  {
   "cell_type": "code",
   "execution_count": 75,
   "metadata": {},
   "outputs": [],
   "source": [
    "test_img = test_img.reshape((-1,784))"
   ]
  },
  {
   "cell_type": "code",
   "execution_count": 76,
   "metadata": {},
   "outputs": [
    {
     "data": {
      "text/plain": [
       "(10000, 784)"
      ]
     },
     "execution_count": 76,
     "metadata": {},
     "output_type": "execute_result"
    }
   ],
   "source": [
    "test_img.shape"
   ]
  },
  {
   "cell_type": "code",
   "execution_count": 77,
   "metadata": {},
   "outputs": [],
   "source": [
    "#print(test_lbl.shape)"
   ]
  },
  {
   "cell_type": "markdown",
   "metadata": {},
   "source": [
    "\n",
    "\n",
    "Since PCA yields a feature subspace that maximizes the variance along the axes, it makes sense to standardize the data, especially, if it was measured on different scales.\n",
    "\n",
    "Standardization of a dataset is a common requirement for many machine learning estimators: they might behave badly if the individual feature do not more or less look like standard normally distributed data\n",
    "\n",
    "Notebook going over the importance of feature Scaling: http://scikit-learn.org/stable/auto_examples/preprocessing/plot_scaling_importance.html#sphx-glr-auto-examples-preprocessing-plot-scaling-importance-py\n"
   ]
  },
  {
   "cell_type": "code",
   "execution_count": 78,
   "metadata": {},
   "outputs": [],
   "source": [
    "from sklearn.preprocessing import StandardScaler\n",
    "scaler = StandardScaler()\n",
    "\n",
    "# Fit on training set only.\n",
    "scaler.fit(train_img)\n",
    "\n",
    "# Apply transform to both the training set and the test set.\n",
    "train_img = scaler.transform(train_img)\n",
    "test_img = scaler.transform(test_img)"
   ]
  },
  {
   "cell_type": "code",
   "execution_count": 79,
   "metadata": {},
   "outputs": [],
   "source": [
    "from sklearn.decomposition import PCA"
   ]
  },
  {
   "cell_type": "code",
   "execution_count": 80,
   "metadata": {},
   "outputs": [],
   "source": [
    "pca = PCA(.95)"
   ]
  },
  {
   "cell_type": "code",
   "execution_count": 81,
   "metadata": {},
   "outputs": [
    {
     "data": {
      "text/plain": [
       "PCA(copy=True, iterated_power='auto', n_components=0.95, random_state=None,\n",
       "    svd_solver='auto', tol=0.0, whiten=False)"
      ]
     },
     "execution_count": 81,
     "metadata": {},
     "output_type": "execute_result"
    }
   ],
   "source": [
    "pca.fit(train_img)"
   ]
  },
  {
   "cell_type": "code",
   "execution_count": 82,
   "metadata": {},
   "outputs": [
    {
     "data": {
      "text/plain": [
       "331"
      ]
     },
     "execution_count": 82,
     "metadata": {},
     "output_type": "execute_result"
    }
   ],
   "source": [
    "pca.n_components_"
   ]
  },
  {
   "cell_type": "code",
   "execution_count": 83,
   "metadata": {},
   "outputs": [],
   "source": [
    "train_img = pca.transform(train_img)\n",
    "test_img = pca.transform(test_img)"
   ]
  },
  {
   "cell_type": "code",
   "execution_count": 84,
   "metadata": {},
   "outputs": [
    {
     "data": {
      "text/plain": [
       "(60000, 331)"
      ]
     },
     "execution_count": 84,
     "metadata": {},
     "output_type": "execute_result"
    }
   ],
   "source": [
    "train_img.shape"
   ]
  },
  {
   "cell_type": "code",
   "execution_count": 37,
   "metadata": {},
   "outputs": [],
   "source": [
    "from sklearn.linear_model import LogisticRegression"
   ]
  },
  {
   "cell_type": "code",
   "execution_count": 38,
   "metadata": {},
   "outputs": [],
   "source": [
    "logisticRegr = LogisticRegression(solver = 'lbfgs')"
   ]
  },
  {
   "cell_type": "code",
   "execution_count": 39,
   "metadata": {},
   "outputs": [
    {
     "name": "stderr",
     "output_type": "stream",
     "text": [
      "/anaconda3/lib/python3.6/site-packages/sklearn/linear_model/logistic.py:469: FutureWarning: Default multi_class will be changed to 'auto' in 0.22. Specify the multi_class option to silence this warning.\n",
      "  \"this warning.\", FutureWarning)\n",
      "/anaconda3/lib/python3.6/site-packages/sklearn/linear_model/logistic.py:947: ConvergenceWarning: lbfgs failed to converge. Increase the number of iterations.\n",
      "  \"of iterations.\", ConvergenceWarning)\n",
      "/anaconda3/lib/python3.6/site-packages/sklearn/linear_model/logistic.py:947: ConvergenceWarning: lbfgs failed to converge. Increase the number of iterations.\n",
      "  \"of iterations.\", ConvergenceWarning)\n",
      "/anaconda3/lib/python3.6/site-packages/sklearn/linear_model/logistic.py:947: ConvergenceWarning: lbfgs failed to converge. Increase the number of iterations.\n",
      "  \"of iterations.\", ConvergenceWarning)\n",
      "/anaconda3/lib/python3.6/site-packages/sklearn/linear_model/logistic.py:947: ConvergenceWarning: lbfgs failed to converge. Increase the number of iterations.\n",
      "  \"of iterations.\", ConvergenceWarning)\n",
      "/anaconda3/lib/python3.6/site-packages/sklearn/linear_model/logistic.py:947: ConvergenceWarning: lbfgs failed to converge. Increase the number of iterations.\n",
      "  \"of iterations.\", ConvergenceWarning)\n",
      "/anaconda3/lib/python3.6/site-packages/sklearn/linear_model/logistic.py:947: ConvergenceWarning: lbfgs failed to converge. Increase the number of iterations.\n",
      "  \"of iterations.\", ConvergenceWarning)\n",
      "/anaconda3/lib/python3.6/site-packages/sklearn/linear_model/logistic.py:947: ConvergenceWarning: lbfgs failed to converge. Increase the number of iterations.\n",
      "  \"of iterations.\", ConvergenceWarning)\n",
      "/anaconda3/lib/python3.6/site-packages/sklearn/linear_model/logistic.py:947: ConvergenceWarning: lbfgs failed to converge. Increase the number of iterations.\n",
      "  \"of iterations.\", ConvergenceWarning)\n",
      "/anaconda3/lib/python3.6/site-packages/sklearn/linear_model/logistic.py:947: ConvergenceWarning: lbfgs failed to converge. Increase the number of iterations.\n",
      "  \"of iterations.\", ConvergenceWarning)\n",
      "/anaconda3/lib/python3.6/site-packages/sklearn/linear_model/logistic.py:947: ConvergenceWarning: lbfgs failed to converge. Increase the number of iterations.\n",
      "  \"of iterations.\", ConvergenceWarning)\n"
     ]
    },
    {
     "data": {
      "text/plain": [
       "LogisticRegression(C=1.0, class_weight=None, dual=False, fit_intercept=True,\n",
       "                   intercept_scaling=1, l1_ratio=None, max_iter=100,\n",
       "                   multi_class='warn', n_jobs=None, penalty='l2',\n",
       "                   random_state=None, solver='lbfgs', tol=0.0001, verbose=0,\n",
       "                   warm_start=False)"
      ]
     },
     "execution_count": 39,
     "metadata": {},
     "output_type": "execute_result"
    }
   ],
   "source": [
    "logisticRegr.fit(train_img, train_lbl)"
   ]
  },
  {
   "cell_type": "code",
   "execution_count": 40,
   "metadata": {},
   "outputs": [
    {
     "data": {
      "text/plain": [
       "(331,)"
      ]
     },
     "execution_count": 40,
     "metadata": {},
     "output_type": "execute_result"
    }
   ],
   "source": [
    "test_img[0].shape"
   ]
  },
  {
   "cell_type": "code",
   "execution_count": 41,
   "metadata": {},
   "outputs": [
    {
     "data": {
      "text/plain": [
       "(1, 331)"
      ]
     },
     "execution_count": 41,
     "metadata": {},
     "output_type": "execute_result"
    }
   ],
   "source": [
    "test_img[0].reshape(1,-1).shape"
   ]
  },
  {
   "cell_type": "code",
   "execution_count": 42,
   "metadata": {},
   "outputs": [
    {
     "data": {
      "text/plain": [
       "array([7], dtype=uint8)"
      ]
     },
     "execution_count": 42,
     "metadata": {},
     "output_type": "execute_result"
    }
   ],
   "source": [
    "# Returns a NumPy Array\n",
    "# Predict for One Observation (image)\n",
    "logisticRegr.predict(test_img[0].reshape(1,-1))"
   ]
  },
  {
   "cell_type": "code",
   "execution_count": 43,
   "metadata": {},
   "outputs": [
    {
     "data": {
      "text/plain": [
       "array([7, 2, 1, 0, 4, 1, 4, 9, 6, 9], dtype=uint8)"
      ]
     },
     "execution_count": 43,
     "metadata": {},
     "output_type": "execute_result"
    }
   ],
   "source": [
    "logisticRegr.predict(test_img[0:10])"
   ]
  },
  {
   "cell_type": "code",
   "execution_count": 44,
   "metadata": {},
   "outputs": [
    {
     "data": {
      "text/plain": [
       "(28, 28)"
      ]
     },
     "execution_count": 44,
     "metadata": {},
     "output_type": "execute_result"
    }
   ],
   "source": [
    "train_image[11].shape"
   ]
  },
  {
   "cell_type": "code",
   "execution_count": 86,
   "metadata": {},
   "outputs": [
    {
     "data": {
      "image/png": "[encoded data removed]",
      "text/plain": [
       "<Figure size 432x288 with 1 Axes>"
      ]
     },
     "metadata": {
      "needs_background": "light"
     },
     "output_type": "display_data"
    }
   ],
   "source": [
    "%matplotlib inline\n",
    "import matplotlib.pyplot as plt\n",
    "first_image = train_image[11]\n",
    "plt.imshow(first_image, cmap='gray')\n",
    "plt.show()"
   ]
  },
  {
   "cell_type": "code",
   "execution_count": 45,
   "metadata": {},
   "outputs": [
    {
     "data": {
      "text/plain": [
       "array([-4.06225314e+00, -4.24202707e+00,  2.38914686e-01,  3.22073789e+00,\n",
       "        6.87186696e+00,  8.40266631e-01,  2.10665364e+00, -3.15758057e+00,\n",
       "       -3.48757094e+00,  3.69066615e+00, -3.89530979e-02,  4.01072997e+00,\n",
       "       -3.94499737e+00, -2.50982129e-01,  3.05361799e+00, -3.78962397e+00,\n",
       "        1.85435686e+00,  1.49775283e+00, -1.82343297e+00, -4.41782440e+00,\n",
       "        1.63135278e+00, -1.78862782e+00, -1.76752259e-01,  3.73510623e-01,\n",
       "        4.42018169e+00, -3.25126673e+00, -3.10074199e+00,  1.10781182e+00,\n",
       "        9.43946756e-01,  1.18396187e+00,  2.31695779e+00,  2.05620735e+00,\n",
       "       -6.04301267e-01,  2.34433978e+00,  2.37203569e+00,  8.22571463e-01,\n",
       "        4.22796382e+00,  1.19991732e+00, -4.66439029e-01, -1.88405491e-02,\n",
       "       -8.08233741e-01, -8.48665271e-01, -1.56093209e+00,  1.25044926e-01,\n",
       "       -2.41803997e+00,  1.70293763e+00, -4.19394589e-01, -9.41015523e-01,\n",
       "        1.25946472e+00, -1.93129237e+00, -2.69468660e-01,  7.08011750e-01,\n",
       "       -3.81825024e-01, -4.03021543e-02,  3.15568180e+00,  5.64577187e-01,\n",
       "        9.63079623e-01,  1.10812408e+00, -4.72988185e-01, -1.08225652e+00,\n",
       "       -2.08378542e-01, -3.29830634e-01,  8.38205710e-01,  1.55095779e+00,\n",
       "       -1.31830545e+00, -1.47645635e+00, -2.90589051e-01,  1.21663538e+00,\n",
       "       -5.54126595e-01,  4.79563825e-02, -5.30218443e-01, -1.55130660e+00,\n",
       "       -4.62090192e-01,  7.42791573e-01, -6.82644477e-01,  8.49584116e-01,\n",
       "       -5.84399433e-01, -6.49366102e-01, -6.57223905e-01,  1.42224939e+00,\n",
       "        4.80917427e-01, -8.52194393e-01, -6.50458057e-01,  9.48672611e-02,\n",
       "       -2.07315936e-01,  5.94043229e-01, -7.07174375e-01, -2.19643311e-01,\n",
       "       -6.37378891e-01,  4.61540982e-01, -3.59653943e-01, -3.78078577e-01,\n",
       "       -7.80107590e-01,  1.06015773e+00,  3.95632629e-01, -1.31716056e+00,\n",
       "       -7.92461366e-01, -1.61741938e+00, -6.08401156e-01,  2.08995774e-01,\n",
       "        2.57130166e-02, -6.02195804e-01,  3.03874177e-01,  2.02384255e-01,\n",
       "        1.27526384e-01, -1.53993046e+00, -1.03829014e+00,  1.69799860e-01,\n",
       "       -6.20049703e-01,  2.02356251e-01, -2.25079249e+00,  1.75780858e+00,\n",
       "        1.08989891e-01,  6.12091711e-01, -5.69784381e-01, -9.33415544e-01,\n",
       "       -4.08729931e-01,  1.21504933e+00, -1.02122513e+00,  7.62588514e-01,\n",
       "        9.63461391e-01, -7.96605792e-01, -2.15326757e+00,  8.91208897e-01,\n",
       "       -6.46996331e-01,  6.48031298e-01,  1.26962480e+00,  3.03290816e+00,\n",
       "        6.45956702e-02, -1.72923634e-01,  3.59497859e-01,  1.39727466e+00,\n",
       "        9.64512997e-01, -1.80433295e-01,  5.16879445e-01, -5.70180258e-02,\n",
       "       -6.98767954e-01,  2.46611902e-02, -2.69324748e-01, -5.26581603e-01,\n",
       "       -2.84276757e-03, -8.33416590e-01,  1.57862772e+00, -2.11287263e-01,\n",
       "        1.01991013e-01,  1.02366527e+00,  9.40497801e-02,  4.39714279e-01,\n",
       "       -1.55558414e-01, -1.77956647e+00,  3.97054093e-02, -1.38093584e+00,\n",
       "       -2.42502640e-01, -1.38066936e+00,  1.31076283e+00, -8.62268831e-01,\n",
       "        6.47616519e-01, -1.09032365e+00,  6.45837510e-01, -6.21297919e-01,\n",
       "       -1.20111240e+00,  1.63268212e-01,  2.75282541e-01, -4.74094969e-02,\n",
       "        4.59892837e-01, -7.97689822e-01,  6.47921696e-01, -2.83412742e-02,\n",
       "       -1.82460120e-01, -1.65027256e-02, -3.89716476e-01,  4.49834672e-01,\n",
       "        3.01641072e-01,  1.34695618e+00,  3.45344987e-02,  6.74748138e-01,\n",
       "       -1.75884841e-01,  1.00754030e+00, -1.31859300e+00, -1.00033205e+00,\n",
       "       -5.79425209e-01,  1.92541946e-02,  2.13114997e-01,  5.00563251e-01,\n",
       "       -5.91748185e-01, -2.07930857e-01,  9.27302324e-01,  2.10732142e+00,\n",
       "       -1.59561890e-01,  2.51237639e-03,  1.56278502e-01,  3.23457580e-01,\n",
       "       -2.14692577e-01, -6.19045100e-02,  7.32685595e-01,  4.37574762e-02,\n",
       "        9.71433778e-02, -1.92629694e-01, -8.73773510e-01, -1.44769624e+00,\n",
       "        1.79107528e+00,  5.96037793e-01, -4.00785375e-01,  4.84168264e-01,\n",
       "       -7.62739328e-01,  8.43523904e-01, -7.28975141e-02, -3.79730688e-02,\n",
       "        1.53517262e-02,  5.36781534e-01, -1.26388223e+00,  1.21927059e+00,\n",
       "        1.74979827e+00, -5.32285166e-01,  2.90850071e-01,  8.35704865e-01,\n",
       "       -2.21173276e-01, -8.48965063e-01,  2.75578661e-01,  6.91355578e-01,\n",
       "        5.33159706e-01, -2.95320415e-02,  3.06507235e-01, -5.25101774e-01,\n",
       "       -1.36575964e+00,  3.63305403e-01, -3.85288689e-01,  6.53680368e-01,\n",
       "       -4.62832672e-02, -1.77280588e-02, -5.96024503e-01, -9.26070278e-01,\n",
       "       -1.24390493e+00,  1.45412025e+00, -1.69929148e-01, -4.89253423e-01,\n",
       "       -5.06240168e-03, -2.96611758e-01, -3.70750368e-01,  7.61187250e-02,\n",
       "       -7.84418668e-01, -1.43585411e-01, -4.12000619e-03,  9.65925634e-01,\n",
       "       -1.00522876e+00, -5.61434776e-01,  3.09045694e-01, -3.49947415e-01,\n",
       "       -1.34345985e-01,  1.05288442e+00,  1.01406838e+00,  2.95341137e-01,\n",
       "        6.07692120e-01, -6.76636063e-01, -1.20462549e-01,  2.93565505e-01,\n",
       "       -6.53000253e-01,  6.77340633e-01,  1.31448886e-01,  1.57911645e-01,\n",
       "        4.76299998e-01, -3.84966917e-01,  7.21178625e-01, -8.00932894e-01,\n",
       "       -1.60753678e+00, -7.68957980e-01, -7.30180171e-01, -8.81955534e-01,\n",
       "       -6.60337836e-01,  1.07841107e+00, -8.15966373e-01, -8.19946093e-01,\n",
       "        8.13013444e-02, -5.48454966e-01, -6.28094202e-01,  6.98814723e-01,\n",
       "        1.93168445e+00, -5.51568723e-02, -1.20493042e-01, -7.80466680e-01,\n",
       "        1.69139145e-01,  9.16491753e-01, -7.29480750e-01,  3.82045163e-01,\n",
       "       -2.07449867e-01, -6.16336956e-01, -1.11822990e+00,  9.82142373e-01,\n",
       "        9.52355688e-02, -1.24403419e+00,  6.87521660e-01,  5.54286474e-01,\n",
       "       -5.00998475e-02, -3.63473745e-01,  6.21770384e-01, -4.23723307e-01,\n",
       "       -1.71013176e-01, -7.73155884e-01, -2.42110156e-01, -9.01655773e-01,\n",
       "        4.94853789e-01, -2.74182154e-01,  3.75468856e-01,  1.12650246e-01,\n",
       "       -5.27796608e-01, -5.21697221e-01,  4.26694826e-01,  1.50894912e-01,\n",
       "        5.61295190e-02, -5.54678121e-01, -1.05790924e+00, -5.16565222e-01,\n",
       "       -2.30765039e-01, -3.61505664e-01, -5.52850813e-01,  9.94742315e-01,\n",
       "        1.67987595e-02, -1.45926815e+00,  5.21258594e-01,  6.49116801e-01,\n",
       "       -3.33587417e-01, -1.08617166e-01,  1.67389941e-01,  7.13606888e-01,\n",
       "       -6.00148765e-01, -1.72089586e-01,  7.95537273e-01, -1.08559717e+00,\n",
       "        3.24518245e-01, -4.42344535e-02, -1.20677092e-01])"
      ]
     },
     "execution_count": 45,
     "metadata": {},
     "output_type": "execute_result"
    }
   ],
   "source": [
    "train_img[11]"
   ]
  },
  {
   "cell_type": "code",
   "execution_count": 51,
   "metadata": {},
   "outputs": [
    {
     "data": {
      "text/plain": [
       "array([ 0.00000000e+00,  0.00000000e+00,  0.00000000e+00,  0.00000000e+00,\n",
       "        0.00000000e+00,  0.00000000e+00,  0.00000000e+00,  0.00000000e+00,\n",
       "        0.00000000e+00,  0.00000000e+00,  0.00000000e+00,  0.00000000e+00,\n",
       "        0.00000000e+00,  0.00000000e+00,  0.00000000e+00,  0.00000000e+00,\n",
       "        0.00000000e+00,  0.00000000e+00,  0.00000000e+00,  0.00000000e+00,\n",
       "        0.00000000e+00,  0.00000000e+00,  0.00000000e+00,  0.00000000e+00,\n",
       "        0.00000000e+00,  0.00000000e+00,  0.00000000e+00,  0.00000000e+00,\n",
       "       -4.06225314e+00, -4.24202707e+00,  2.38914686e-01,  3.22073789e+00,\n",
       "        6.87186696e+00,  8.40266631e-01,  2.10665364e+00, -3.15758057e+00,\n",
       "       -3.48757094e+00,  3.69066615e+00, -3.89530979e-02,  4.01072997e+00,\n",
       "       -3.94499737e+00, -2.50982129e-01,  3.05361799e+00, -3.78962397e+00,\n",
       "        1.85435686e+00,  1.49775283e+00, -1.82343297e+00, -4.41782440e+00,\n",
       "        1.63135278e+00, -1.78862782e+00, -1.76752259e-01,  3.73510623e-01,\n",
       "        4.42018169e+00, -3.25126673e+00, -3.10074199e+00,  1.10781182e+00,\n",
       "        9.43946756e-01,  1.18396187e+00,  2.31695779e+00,  2.05620735e+00,\n",
       "       -6.04301267e-01,  2.34433978e+00,  2.37203569e+00,  8.22571463e-01,\n",
       "        4.22796382e+00,  1.19991732e+00, -4.66439029e-01, -1.88405491e-02,\n",
       "       -8.08233741e-01, -8.48665271e-01, -1.56093209e+00,  1.25044926e-01,\n",
       "       -2.41803997e+00,  1.70293763e+00, -4.19394589e-01, -9.41015523e-01,\n",
       "        1.25946472e+00, -1.93129237e+00, -2.69468660e-01,  7.08011750e-01,\n",
       "       -3.81825024e-01, -4.03021543e-02,  3.15568180e+00,  5.64577187e-01,\n",
       "        9.63079623e-01,  1.10812408e+00, -4.72988185e-01, -1.08225652e+00,\n",
       "       -2.08378542e-01, -3.29830634e-01,  8.38205710e-01,  1.55095779e+00,\n",
       "       -1.31830545e+00, -1.47645635e+00, -2.90589051e-01,  1.21663538e+00,\n",
       "       -5.54126595e-01,  4.79563825e-02, -5.30218443e-01, -1.55130660e+00,\n",
       "       -4.62090192e-01,  7.42791573e-01, -6.82644477e-01,  8.49584116e-01,\n",
       "       -5.84399433e-01, -6.49366102e-01, -6.57223905e-01,  1.42224939e+00,\n",
       "        4.80917427e-01, -8.52194393e-01, -6.50458057e-01,  9.48672611e-02,\n",
       "       -2.07315936e-01,  5.94043229e-01, -7.07174375e-01, -2.19643311e-01,\n",
       "       -6.37378891e-01,  4.61540982e-01, -3.59653943e-01, -3.78078577e-01,\n",
       "       -7.80107590e-01,  1.06015773e+00,  3.95632629e-01, -1.31716056e+00,\n",
       "       -7.92461366e-01, -1.61741938e+00, -6.08401156e-01,  2.08995774e-01,\n",
       "        2.57130166e-02, -6.02195804e-01,  3.03874177e-01,  2.02384255e-01,\n",
       "        1.27526384e-01, -1.53993046e+00, -1.03829014e+00,  1.69799860e-01,\n",
       "       -6.20049703e-01,  2.02356251e-01, -2.25079249e+00,  1.75780858e+00,\n",
       "        1.08989891e-01,  6.12091711e-01, -5.69784381e-01, -9.33415544e-01,\n",
       "       -4.08729931e-01,  1.21504933e+00, -1.02122513e+00,  7.62588514e-01,\n",
       "        9.63461391e-01, -7.96605792e-01, -2.15326757e+00,  8.91208897e-01,\n",
       "       -6.46996331e-01,  6.48031298e-01,  1.26962480e+00,  3.03290816e+00,\n",
       "        6.45956702e-02, -1.72923634e-01,  3.59497859e-01,  1.39727466e+00,\n",
       "        9.64512997e-01, -1.80433295e-01,  5.16879445e-01, -5.70180258e-02,\n",
       "       -6.98767954e-01,  2.46611902e-02, -2.69324748e-01, -5.26581603e-01,\n",
       "       -2.84276757e-03, -8.33416590e-01,  1.57862772e+00, -2.11287263e-01,\n",
       "        1.01991013e-01,  1.02366527e+00,  9.40497801e-02,  4.39714279e-01,\n",
       "       -1.55558414e-01, -1.77956647e+00,  3.97054093e-02, -1.38093584e+00,\n",
       "       -2.42502640e-01, -1.38066936e+00,  1.31076283e+00, -8.62268831e-01,\n",
       "        6.47616519e-01, -1.09032365e+00,  6.45837510e-01, -6.21297919e-01,\n",
       "       -1.20111240e+00,  1.63268212e-01,  2.75282541e-01, -4.74094969e-02,\n",
       "        4.59892837e-01, -7.97689822e-01,  6.47921696e-01, -2.83412742e-02,\n",
       "       -1.82460120e-01, -1.65027256e-02, -3.89716476e-01,  4.49834672e-01,\n",
       "        3.01641072e-01,  1.34695618e+00,  3.45344987e-02,  6.74748138e-01,\n",
       "       -1.75884841e-01,  1.00754030e+00, -1.31859300e+00, -1.00033205e+00,\n",
       "       -5.79425209e-01,  1.92541946e-02,  2.13114997e-01,  5.00563251e-01,\n",
       "       -5.91748185e-01, -2.07930857e-01,  9.27302324e-01,  2.10732142e+00,\n",
       "       -1.59561890e-01,  2.51237639e-03,  1.56278502e-01,  3.23457580e-01,\n",
       "       -2.14692577e-01, -6.19045100e-02,  7.32685595e-01,  4.37574762e-02,\n",
       "        9.71433778e-02, -1.92629694e-01, -8.73773510e-01, -1.44769624e+00,\n",
       "        1.79107528e+00,  5.96037793e-01, -4.00785375e-01,  4.84168264e-01,\n",
       "       -7.62739328e-01,  8.43523904e-01, -7.28975141e-02, -3.79730688e-02,\n",
       "        1.53517262e-02,  5.36781534e-01, -1.26388223e+00,  1.21927059e+00,\n",
       "        1.74979827e+00, -5.32285166e-01,  2.90850071e-01,  8.35704865e-01,\n",
       "       -2.21173276e-01, -8.48965063e-01,  2.75578661e-01,  6.91355578e-01,\n",
       "        5.33159706e-01, -2.95320415e-02,  3.06507235e-01, -5.25101774e-01,\n",
       "       -1.36575964e+00,  3.63305403e-01, -3.85288689e-01,  6.53680368e-01,\n",
       "       -4.62832672e-02, -1.77280588e-02, -5.96024503e-01, -9.26070278e-01,\n",
       "       -1.24390493e+00,  1.45412025e+00, -1.69929148e-01, -4.89253423e-01,\n",
       "       -5.06240168e-03, -2.96611758e-01, -3.70750368e-01,  7.61187250e-02,\n",
       "       -7.84418668e-01, -1.43585411e-01, -4.12000619e-03,  9.65925634e-01,\n",
       "       -1.00522876e+00, -5.61434776e-01,  3.09045694e-01, -3.49947415e-01,\n",
       "       -1.34345985e-01,  1.05288442e+00,  1.01406838e+00,  2.95341137e-01,\n",
       "        6.07692120e-01, -6.76636063e-01, -1.20462549e-01,  2.93565505e-01,\n",
       "       -6.53000253e-01,  6.77340633e-01,  1.31448886e-01,  1.57911645e-01,\n",
       "        4.76299998e-01, -3.84966917e-01,  7.21178625e-01, -8.00932894e-01,\n",
       "       -1.60753678e+00, -7.68957980e-01, -7.30180171e-01, -8.81955534e-01,\n",
       "       -6.60337836e-01,  1.07841107e+00, -8.15966373e-01, -8.19946093e-01,\n",
       "        8.13013444e-02, -5.48454966e-01, -6.28094202e-01,  6.98814723e-01,\n",
       "        1.93168445e+00, -5.51568723e-02, -1.20493042e-01, -7.80466680e-01,\n",
       "        1.69139145e-01,  9.16491753e-01, -7.29480750e-01,  3.82045163e-01,\n",
       "       -2.07449867e-01, -6.16336956e-01, -1.11822990e+00,  9.82142373e-01,\n",
       "        9.52355688e-02, -1.24403419e+00,  6.87521660e-01,  5.54286474e-01,\n",
       "       -5.00998475e-02, -3.63473745e-01,  6.21770384e-01, -4.23723307e-01,\n",
       "       -1.71013176e-01, -7.73155884e-01, -2.42110156e-01, -9.01655773e-01,\n",
       "        4.94853789e-01, -2.74182154e-01,  3.75468856e-01,  1.12650246e-01,\n",
       "       -5.27796608e-01, -5.21697221e-01,  4.26694826e-01,  1.50894912e-01,\n",
       "        5.61295190e-02, -5.54678121e-01, -1.05790924e+00, -5.16565222e-01,\n",
       "       -2.30765039e-01, -3.61505664e-01, -5.52850813e-01,  9.94742315e-01,\n",
       "        1.67987595e-02, -1.45926815e+00,  5.21258594e-01,  6.49116801e-01,\n",
       "       -3.33587417e-01, -1.08617166e-01,  1.67389941e-01,  7.13606888e-01,\n",
       "       -6.00148765e-01, -1.72089586e-01,  7.95537273e-01, -1.08559717e+00,\n",
       "        3.24518245e-01, -4.42344535e-02, -1.20677092e-01,  0.00000000e+00,\n",
       "        0.00000000e+00,  0.00000000e+00,  0.00000000e+00,  0.00000000e+00,\n",
       "        0.00000000e+00,  0.00000000e+00,  0.00000000e+00,  0.00000000e+00,\n",
       "        0.00000000e+00,  0.00000000e+00,  0.00000000e+00,  0.00000000e+00,\n",
       "        0.00000000e+00,  0.00000000e+00,  0.00000000e+00,  0.00000000e+00,\n",
       "        0.00000000e+00,  0.00000000e+00,  0.00000000e+00,  0.00000000e+00,\n",
       "        0.00000000e+00,  0.00000000e+00,  0.00000000e+00,  0.00000000e+00,\n",
       "        0.00000000e+00,  0.00000000e+00,  0.00000000e+00])"
      ]
     },
     "execution_count": 51,
     "metadata": {},
     "output_type": "execute_result"
    }
   ],
   "source": [
    "import numpy as np\n",
    "np.pad(train_img[11], (28, 28), 'constant')"
   ]
  },
  {
   "cell_type": "code",
   "execution_count": 45,
   "metadata": {},
   "outputs": [
    {
     "name": "stdout",
     "output_type": "stream",
     "text": [
      "0.9217\n"
     ]
    }
   ],
   "source": [
    "score = logisticRegr.score(test_img, test_lbl)\n",
    "print(score)"
   ]
  },
  {
   "cell_type": "code",
   "execution_count": null,
   "metadata": {},
   "outputs": [],
   "source": [
    "# reference : \n",
    "# https://github.com/mGalarnyk/Python_Tutorials/blob/master/Sklearn/PCA/PCA_to_Speed-up_Machine_Learning_Algorithms.ipynb\n",
    "# https://towardsdatascience.com/pca-using-python-scikit-learn-e653f8989e60"
   ]
  },
  {
   "cell_type": "code",
   "execution_count": 3,
   "metadata": {},
   "outputs": [],
   "source": [
    "import pandas as pd \n",
    "import numpy as np\n",
    "import matplotlib.pyplot as plt\n",
    "from sklearn.decomposition import PCA\n",
    "from sklearn.preprocessing import StandardScaler\n",
    "%matplotlib inline"
   ]
  },
  {
   "cell_type": "code",
   "execution_count": 4,
   "metadata": {},
   "outputs": [],
   "source": [
    "url = \"https://archive.ics.uci.edu/ml/machine-learning-databases/iris/iris.data\""
   ]
  },
  {
   "cell_type": "code",
   "execution_count": 5,
   "metadata": {},
   "outputs": [],
   "source": [
    "# loading dataset into Pandas DataFrame\n",
    "df = pd.read_csv(url\n",
    "                 , names=['sepal length','sepal width','petal length','petal width','target'])"
   ]
  },
  {
   "cell_type": "code",
   "execution_count": 6,
   "metadata": {},
   "outputs": [
    {
     "data": {
      "text/html": [
       "<div>\n",
       "<style scoped>\n",
       "    .dataframe tbody tr th:only-of-type {\n",
       "        vertical-align: middle;\n",
       "    }\n",
       "\n",
       "    .dataframe tbody tr th {\n",
       "        vertical-align: top;\n",
       "    }\n",
       "\n",
       "    .dataframe thead th {\n",
       "        text-align: right;\n",
       "    }\n",
       "</style>\n",
       "<table border=\"1\" class=\"dataframe\">\n",
       "  <thead>\n",
       "    <tr style=\"text-align: right;\">\n",
       "      <th></th>\n",
       "      <th>sepal length</th>\n",
       "      <th>sepal width</th>\n",
       "      <th>petal length</th>\n",
       "      <th>petal width</th>\n",
       "      <th>target</th>\n",
       "    </tr>\n",
       "  </thead>\n",
       "  <tbody>\n",
       "    <tr>\n",
       "      <th>0</th>\n",
       "      <td>5.1</td>\n",
       "      <td>3.5</td>\n",
       "      <td>1.4</td>\n",
       "      <td>0.2</td>\n",
       "      <td>Iris-setosa</td>\n",
       "    </tr>\n",
       "    <tr>\n",
       "      <th>1</th>\n",
       "      <td>4.9</td>\n",
       "      <td>3.0</td>\n",
       "      <td>1.4</td>\n",
       "      <td>0.2</td>\n",
       "      <td>Iris-setosa</td>\n",
       "    </tr>\n",
       "    <tr>\n",
       "      <th>2</th>\n",
       "      <td>4.7</td>\n",
       "      <td>3.2</td>\n",
       "      <td>1.3</td>\n",
       "      <td>0.2</td>\n",
       "      <td>Iris-setosa</td>\n",
       "    </tr>\n",
       "    <tr>\n",
       "      <th>3</th>\n",
       "      <td>4.6</td>\n",
       "      <td>3.1</td>\n",
       "      <td>1.5</td>\n",
       "      <td>0.2</td>\n",
       "      <td>Iris-setosa</td>\n",
       "    </tr>\n",
       "    <tr>\n",
       "      <th>4</th>\n",
       "      <td>5.0</td>\n",
       "      <td>3.6</td>\n",
       "      <td>1.4</td>\n",
       "      <td>0.2</td>\n",
       "      <td>Iris-setosa</td>\n",
       "    </tr>\n",
       "  </tbody>\n",
       "</table>\n",
       "</div>"
      ],
      "text/plain": [
       "   sepal length  sepal width  petal length  petal width       target\n",
       "0           5.1          3.5           1.4          0.2  Iris-setosa\n",
       "1           4.9          3.0           1.4          0.2  Iris-setosa\n",
       "2           4.7          3.2           1.3          0.2  Iris-setosa\n",
       "3           4.6          3.1           1.5          0.2  Iris-setosa\n",
       "4           5.0          3.6           1.4          0.2  Iris-setosa"
      ]
     },
     "execution_count": 6,
     "metadata": {},
     "output_type": "execute_result"
    }
   ],
   "source": [
    "df.head()"
   ]
  },
  {
   "cell_type": "code",
   "execution_count": 7,
   "metadata": {},
   "outputs": [],
   "source": [
    "features = ['sepal length', 'sepal width', 'petal length', 'petal width']\n",
    "x = df.loc[:, features].values"
   ]
  },
  {
   "cell_type": "code",
   "execution_count": 8,
   "metadata": {},
   "outputs": [],
   "source": [
    "y = df.loc[:,['target']].values"
   ]
  },
  {
   "cell_type": "code",
   "execution_count": 9,
   "metadata": {},
   "outputs": [],
   "source": [
    "x = StandardScaler().fit_transform(x)"
   ]
  },
  {
   "cell_type": "code",
   "execution_count": 10,
   "metadata": {},
   "outputs": [
    {
     "data": {
      "text/html": [
       "<div>\n",
       "<style scoped>\n",
       "    .dataframe tbody tr th:only-of-type {\n",
       "        vertical-align: middle;\n",
       "    }\n",
       "\n",
       "    .dataframe tbody tr th {\n",
       "        vertical-align: top;\n",
       "    }\n",
       "\n",
       "    .dataframe thead th {\n",
       "        text-align: right;\n",
       "    }\n",
       "</style>\n",
       "<table border=\"1\" class=\"dataframe\">\n",
       "  <thead>\n",
       "    <tr style=\"text-align: right;\">\n",
       "      <th></th>\n",
       "      <th>sepal length</th>\n",
       "      <th>sepal width</th>\n",
       "      <th>petal length</th>\n",
       "      <th>petal width</th>\n",
       "    </tr>\n",
       "  </thead>\n",
       "  <tbody>\n",
       "    <tr>\n",
       "      <th>0</th>\n",
       "      <td>-0.900681</td>\n",
       "      <td>1.032057</td>\n",
       "      <td>-1.341272</td>\n",
       "      <td>-1.312977</td>\n",
       "    </tr>\n",
       "    <tr>\n",
       "      <th>1</th>\n",
       "      <td>-1.143017</td>\n",
       "      <td>-0.124958</td>\n",
       "      <td>-1.341272</td>\n",
       "      <td>-1.312977</td>\n",
       "    </tr>\n",
       "    <tr>\n",
       "      <th>2</th>\n",
       "      <td>-1.385353</td>\n",
       "      <td>0.337848</td>\n",
       "      <td>-1.398138</td>\n",
       "      <td>-1.312977</td>\n",
       "    </tr>\n",
       "    <tr>\n",
       "      <th>3</th>\n",
       "      <td>-1.506521</td>\n",
       "      <td>0.106445</td>\n",
       "      <td>-1.284407</td>\n",
       "      <td>-1.312977</td>\n",
       "    </tr>\n",
       "    <tr>\n",
       "      <th>4</th>\n",
       "      <td>-1.021849</td>\n",
       "      <td>1.263460</td>\n",
       "      <td>-1.341272</td>\n",
       "      <td>-1.312977</td>\n",
       "    </tr>\n",
       "  </tbody>\n",
       "</table>\n",
       "</div>"
      ],
      "text/plain": [
       "   sepal length  sepal width  petal length  petal width\n",
       "0     -0.900681     1.032057     -1.341272    -1.312977\n",
       "1     -1.143017    -0.124958     -1.341272    -1.312977\n",
       "2     -1.385353     0.337848     -1.398138    -1.312977\n",
       "3     -1.506521     0.106445     -1.284407    -1.312977\n",
       "4     -1.021849     1.263460     -1.341272    -1.312977"
      ]
     },
     "execution_count": 10,
     "metadata": {},
     "output_type": "execute_result"
    }
   ],
   "source": [
    "pd.DataFrame(data = x, columns = features).head()"
   ]
  },
  {
   "cell_type": "code",
   "execution_count": 11,
   "metadata": {},
   "outputs": [],
   "source": [
    "pca = PCA(n_components=2)"
   ]
  },
  {
   "cell_type": "code",
   "execution_count": 12,
   "metadata": {},
   "outputs": [],
   "source": [
    "principalComponents = pca.fit_transform(x)"
   ]
  },
  {
   "cell_type": "code",
   "execution_count": 13,
   "metadata": {},
   "outputs": [],
   "source": [
    "principalDf = pd.DataFrame(data = principalComponents\n",
    "             , columns = ['principal component 1', 'principal component 2'])"
   ]
  },
  {
   "cell_type": "code",
   "execution_count": 15,
   "metadata": {},
   "outputs": [
    {
     "data": {
      "text/html": [
       "<div>\n",
       "<style scoped>\n",
       "    .dataframe tbody tr th:only-of-type {\n",
       "        vertical-align: middle;\n",
       "    }\n",
       "\n",
       "    .dataframe tbody tr th {\n",
       "        vertical-align: top;\n",
       "    }\n",
       "\n",
       "    .dataframe thead th {\n",
       "        text-align: right;\n",
       "    }\n",
       "</style>\n",
       "<table border=\"1\" class=\"dataframe\">\n",
       "  <thead>\n",
       "    <tr style=\"text-align: right;\">\n",
       "      <th></th>\n",
       "      <th>principal component 1</th>\n",
       "      <th>principal component 2</th>\n",
       "    </tr>\n",
       "  </thead>\n",
       "  <tbody>\n",
       "    <tr>\n",
       "      <th>0</th>\n",
       "      <td>-2.264542</td>\n",
       "      <td>0.505704</td>\n",
       "    </tr>\n",
       "    <tr>\n",
       "      <th>1</th>\n",
       "      <td>-2.086426</td>\n",
       "      <td>-0.655405</td>\n",
       "    </tr>\n",
       "    <tr>\n",
       "      <th>2</th>\n",
       "      <td>-2.367950</td>\n",
       "      <td>-0.318477</td>\n",
       "    </tr>\n",
       "    <tr>\n",
       "      <th>3</th>\n",
       "      <td>-2.304197</td>\n",
       "      <td>-0.575368</td>\n",
       "    </tr>\n",
       "    <tr>\n",
       "      <th>4</th>\n",
       "      <td>-2.388777</td>\n",
       "      <td>0.674767</td>\n",
       "    </tr>\n",
       "  </tbody>\n",
       "</table>\n",
       "</div>"
      ],
      "text/plain": [
       "   principal component 1  principal component 2\n",
       "0              -2.264542               0.505704\n",
       "1              -2.086426              -0.655405\n",
       "2              -2.367950              -0.318477\n",
       "3              -2.304197              -0.575368\n",
       "4              -2.388777               0.674767"
      ]
     },
     "execution_count": 15,
     "metadata": {},
     "output_type": "execute_result"
    }
   ],
   "source": [
    "principalDf.head(5)"
   ]
  },
  {
   "cell_type": "code",
   "execution_count": 16,
   "metadata": {},
   "outputs": [
    {
     "data": {
      "text/html": [
       "<div>\n",
       "<style scoped>\n",
       "    .dataframe tbody tr th:only-of-type {\n",
       "        vertical-align: middle;\n",
       "    }\n",
       "\n",
       "    .dataframe tbody tr th {\n",
       "        vertical-align: top;\n",
       "    }\n",
       "\n",
       "    .dataframe thead th {\n",
       "        text-align: right;\n",
       "    }\n",
       "</style>\n",
       "<table border=\"1\" class=\"dataframe\">\n",
       "  <thead>\n",
       "    <tr style=\"text-align: right;\">\n",
       "      <th></th>\n",
       "      <th>target</th>\n",
       "    </tr>\n",
       "  </thead>\n",
       "  <tbody>\n",
       "    <tr>\n",
       "      <th>0</th>\n",
       "      <td>Iris-setosa</td>\n",
       "    </tr>\n",
       "    <tr>\n",
       "      <th>1</th>\n",
       "      <td>Iris-setosa</td>\n",
       "    </tr>\n",
       "    <tr>\n",
       "      <th>2</th>\n",
       "      <td>Iris-setosa</td>\n",
       "    </tr>\n",
       "    <tr>\n",
       "      <th>3</th>\n",
       "      <td>Iris-setosa</td>\n",
       "    </tr>\n",
       "    <tr>\n",
       "      <th>4</th>\n",
       "      <td>Iris-setosa</td>\n",
       "    </tr>\n",
       "  </tbody>\n",
       "</table>\n",
       "</div>"
      ],
      "text/plain": [
       "        target\n",
       "0  Iris-setosa\n",
       "1  Iris-setosa\n",
       "2  Iris-setosa\n",
       "3  Iris-setosa\n",
       "4  Iris-setosa"
      ]
     },
     "execution_count": 16,
     "metadata": {},
     "output_type": "execute_result"
    }
   ],
   "source": [
    "df[['target']].head()"
   ]
  },
  {
   "cell_type": "code",
   "execution_count": 17,
   "metadata": {},
   "outputs": [
    {
     "data": {
      "text/html": [
       "<div>\n",
       "<style scoped>\n",
       "    .dataframe tbody tr th:only-of-type {\n",
       "        vertical-align: middle;\n",
       "    }\n",
       "\n",
       "    .dataframe tbody tr th {\n",
       "        vertical-align: top;\n",
       "    }\n",
       "\n",
       "    .dataframe thead th {\n",
       "        text-align: right;\n",
       "    }\n",
       "</style>\n",
       "<table border=\"1\" class=\"dataframe\">\n",
       "  <thead>\n",
       "    <tr style=\"text-align: right;\">\n",
       "      <th></th>\n",
       "      <th>principal component 1</th>\n",
       "      <th>principal component 2</th>\n",
       "      <th>target</th>\n",
       "    </tr>\n",
       "  </thead>\n",
       "  <tbody>\n",
       "    <tr>\n",
       "      <th>0</th>\n",
       "      <td>-2.264542</td>\n",
       "      <td>0.505704</td>\n",
       "      <td>Iris-setosa</td>\n",
       "    </tr>\n",
       "    <tr>\n",
       "      <th>1</th>\n",
       "      <td>-2.086426</td>\n",
       "      <td>-0.655405</td>\n",
       "      <td>Iris-setosa</td>\n",
       "    </tr>\n",
       "    <tr>\n",
       "      <th>2</th>\n",
       "      <td>-2.367950</td>\n",
       "      <td>-0.318477</td>\n",
       "      <td>Iris-setosa</td>\n",
       "    </tr>\n",
       "    <tr>\n",
       "      <th>3</th>\n",
       "      <td>-2.304197</td>\n",
       "      <td>-0.575368</td>\n",
       "      <td>Iris-setosa</td>\n",
       "    </tr>\n",
       "    <tr>\n",
       "      <th>4</th>\n",
       "      <td>-2.388777</td>\n",
       "      <td>0.674767</td>\n",
       "      <td>Iris-setosa</td>\n",
       "    </tr>\n",
       "  </tbody>\n",
       "</table>\n",
       "</div>"
      ],
      "text/plain": [
       "   principal component 1  principal component 2       target\n",
       "0              -2.264542               0.505704  Iris-setosa\n",
       "1              -2.086426              -0.655405  Iris-setosa\n",
       "2              -2.367950              -0.318477  Iris-setosa\n",
       "3              -2.304197              -0.575368  Iris-setosa\n",
       "4              -2.388777               0.674767  Iris-setosa"
      ]
     },
     "execution_count": 17,
     "metadata": {},
     "output_type": "execute_result"
    }
   ],
   "source": [
    "finalDf = pd.concat([principalDf, df[['target']]], axis = 1)\n",
    "finalDf.head(5)"
   ]
  },
  {
   "cell_type": "code",
   "execution_count": 73,
   "metadata": {},
   "outputs": [
    {
     "data": {
      "text/plain": [
       "Counter({False: 100, True: 50})"
      ]
     },
     "execution_count": 73,
     "metadata": {},
     "output_type": "execute_result"
    }
   ],
   "source": [
    "indicesToKeep = finalDf['target'] == target\n",
    "from collections import Counter\n",
    "Counter(indicesToKeep)"
   ]
  },
  {
   "cell_type": "code",
   "execution_count": 74,
   "metadata": {},
   "outputs": [
    {
     "data": {
      "text/plain": [
       "'Iris-virginica'"
      ]
     },
     "execution_count": 74,
     "metadata": {},
     "output_type": "execute_result"
    }
   ],
   "source": [
    "target"
   ]
  },
  {
   "cell_type": "code",
   "execution_count": 67,
   "metadata": {},
   "outputs": [
    {
     "data": {
      "image/png": "[encoded data removed]",
      "text/plain": [
       "<Figure size 576x576 with 1 Axes>"
      ]
     },
     "metadata": {
      "needs_background": "light"
     },
     "output_type": "display_data"
    }
   ],
   "source": [
    "fig = plt.figure(figsize = (8,8))\n",
    "ax = fig.add_subplot(1,1,1) \n",
    "ax.set_xlabel('Principal Component 1', fontsize = 15)\n",
    "ax.set_ylabel('Principal Component 2', fontsize = 15)\n",
    "ax.set_title('2 Component PCA', fontsize = 20)\n",
    "\n",
    "\n",
    "targets = ['Iris-setosa', 'Iris-versicolor', 'Iris-virginica']\n",
    "colors = ['r', 'g', 'b']\n",
    "for target, color in zip(targets,colors):\n",
    "    indicesToKeep = finalDf['target'] == target\n",
    "    ax.scatter(finalDf.loc[indicesToKeep, 'principal component 1']\n",
    "               , finalDf.loc[indicesToKeep, 'principal component 2']\n",
    "               , c = color\n",
    "               , s = 50)\n",
    "ax.legend(targets)\n",
    "ax.grid()"
   ]
  },
  {
   "cell_type": "code",
   "execution_count": null,
   "metadata": {},
   "outputs": [],
   "source": []
  }
 ],
 "metadata": {
  "kernelspec": {
   "display_name": "Python 3",
   "language": "python",
   "name": "python3"
  },
  "language_info": {
   "codemirror_mode": {
    "name": "ipython",
    "version": 3
   },
   "file_extension": ".py",
   "mimetype": "text/x-python",
   "name": "python",
   "nbconvert_exporter": "python",
   "pygments_lexer": "ipython3",
   "version": "3.6.7"
  }
 },
 "nbformat": 4,
 "nbformat_minor": 2
}
