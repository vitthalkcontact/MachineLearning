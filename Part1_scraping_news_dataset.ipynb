{
 "cells": [
  {
   "cell_type": "code",
   "execution_count": 12,
   "metadata": {},
   "outputs": [],
   "source": [
    "import requests\n",
    "from bs4 import BeautifulSoup\n",
    "import pandas as pd\n",
    "import numpy as np\n",
    "import matplotlib.pyplot as plt\n",
    "import seaborn as sns\n",
    "import os\n",
    "\n",
    "pd.set_option()"
   ]
  },
  {
   "cell_type": "code",
   "execution_count": 13,
   "metadata": {},
   "outputs": [],
   "source": [
    "seed_urls = ['https://inshorts.com/en/read/technology',\n",
    "             'https://inshorts.com/en/read/sports',\n",
    "             'https://inshorts.com/en/read/world']\n"
   ]
  },
  {
   "cell_type": "markdown",
   "metadata": {},
   "source": [
    "1.  for loop which is going through all the seed urls\n",
    "2. for each urls which is my category --> getting all the cards\n",
    "3. once i got all cards, in each card i am scraping --> headline, news_article and category"
   ]
  },
  {
   "cell_type": "code",
   "execution_count": 18,
   "metadata": {},
   "outputs": [],
   "source": [
    "def build_dataset(seed_urls):\n",
    "    news_data = []\n",
    "    for url in seed_urls:\n",
    "        news_category = url.split('/')[-1]\n",
    "        data = requests.get(url)\n",
    "        soup = BeautifulSoup(data.content, 'html.parser')\n",
    "        \n",
    "        all_cards = soup.find_all('div', class_=\"news-card\")\n",
    "        \n",
    "        news_articles = [{\n",
    "            'news_headline': card.find('span', attrs={\"itemprop\": \"headline\"}).string,\n",
    "            'news_article': card.find('div', attrs={\"itemprop\": \"articleBody\"}).string,\n",
    "            'news_category': news_category\n",
    "        } for card in all_cards]\n",
    "        news_data.extend(news_articles)\n",
    "    # end of for loop\n",
    "    df =  pd.DataFrame(news_data)\n",
    "    df = df[['news_headline', 'news_article', 'news_category']]\n",
    "    return df"
   ]
  },
  {
   "cell_type": "code",
   "execution_count": 19,
   "metadata": {},
   "outputs": [
    {
     "data": {
      "text/html": [
       "<div>\n",
       "<style scoped>\n",
       "    .dataframe tbody tr th:only-of-type {\n",
       "        vertical-align: middle;\n",
       "    }\n",
       "\n",
       "    .dataframe tbody tr th {\n",
       "        vertical-align: top;\n",
       "    }\n",
       "\n",
       "    .dataframe thead th {\n",
       "        text-align: right;\n",
       "    }\n",
       "</style>\n",
       "<table border=\"1\" class=\"dataframe\">\n",
       "  <thead>\n",
       "    <tr style=\"text-align: right;\">\n",
       "      <th></th>\n",
       "      <th>news_headline</th>\n",
       "      <th>news_article</th>\n",
       "      <th>news_category</th>\n",
       "    </tr>\n",
       "  </thead>\n",
       "  <tbody>\n",
       "    <tr>\n",
       "      <th>0</th>\n",
       "      <td>Google brings its '.new' shortcut domains to M...</td>\n",
       "      <td>A year after rolling out '.new' links like 'do...</td>\n",
       "      <td>technology</td>\n",
       "    </tr>\n",
       "    <tr>\n",
       "      <th>1</th>\n",
       "      <td>Apple releases iOS 13.2 with Deep Fusion photo...</td>\n",
       "      <td>Apple has released iOS 13.2 which includes Dee...</td>\n",
       "      <td>technology</td>\n",
       "    </tr>\n",
       "    <tr>\n",
       "      <th>2</th>\n",
       "      <td>Uber unveils new design for its food delivery ...</td>\n",
       "      <td>Uber unveiled the design of its drone for food...</td>\n",
       "      <td>technology</td>\n",
       "    </tr>\n",
       "    <tr>\n",
       "      <th>3</th>\n",
       "      <td>Melinda shares pic of Bill Gates wearing 'fami...</td>\n",
       "      <td>Bill Gates, the Co-founder of Microsoft and wo...</td>\n",
       "      <td>technology</td>\n",
       "    </tr>\n",
       "    <tr>\n",
       "      <th>4</th>\n",
       "      <td>Google owner posts 23% decline in profit, shar...</td>\n",
       "      <td>Google's parent firm Alphabet posted its third...</td>\n",
       "      <td>technology</td>\n",
       "    </tr>\n",
       "    <tr>\n",
       "      <th>5</th>\n",
       "      <td>US hospital live streams 25-yr-old woman's bra...</td>\n",
       "      <td>A hospital in Texas, US, live streamed on Face...</td>\n",
       "      <td>technology</td>\n",
       "    </tr>\n",
       "    <tr>\n",
       "      <th>6</th>\n",
       "      <td>UCLA to celebrate 50 years of 1st use of inter...</td>\n",
       "      <td>The University of California, Los Angeles (UCL...</td>\n",
       "      <td>technology</td>\n",
       "    </tr>\n",
       "    <tr>\n",
       "      <th>7</th>\n",
       "      <td>MIT uses shadows to help self-driving vehicles...</td>\n",
       "      <td>MIT researchers developed a new system that us...</td>\n",
       "      <td>technology</td>\n",
       "    </tr>\n",
       "    <tr>\n",
       "      <th>8</th>\n",
       "      <td>Ola may raise up to ₹1,400 crore from Microsof...</td>\n",
       "      <td>Bengaluru-based ride-hailing giant Ola is in a...</td>\n",
       "      <td>technology</td>\n",
       "    </tr>\n",
       "    <tr>\n",
       "      <th>9</th>\n",
       "      <td>Google owner Alphabet makes an offer to acquir...</td>\n",
       "      <td>Google owner Alphabet has made an offer to acq...</td>\n",
       "      <td>technology</td>\n",
       "    </tr>\n",
       "  </tbody>\n",
       "</table>\n",
       "</div>"
      ],
      "text/plain": [
       "                                       news_headline  \\\n",
       "0  Google brings its '.new' shortcut domains to M...   \n",
       "1  Apple releases iOS 13.2 with Deep Fusion photo...   \n",
       "2  Uber unveils new design for its food delivery ...   \n",
       "3  Melinda shares pic of Bill Gates wearing 'fami...   \n",
       "4  Google owner posts 23% decline in profit, shar...   \n",
       "5  US hospital live streams 25-yr-old woman's bra...   \n",
       "6  UCLA to celebrate 50 years of 1st use of inter...   \n",
       "7  MIT uses shadows to help self-driving vehicles...   \n",
       "8  Ola may raise up to ₹1,400 crore from Microsof...   \n",
       "9  Google owner Alphabet makes an offer to acquir...   \n",
       "\n",
       "                                        news_article news_category  \n",
       "0  A year after rolling out '.new' links like 'do...    technology  \n",
       "1  Apple has released iOS 13.2 which includes Dee...    technology  \n",
       "2  Uber unveiled the design of its drone for food...    technology  \n",
       "3  Bill Gates, the Co-founder of Microsoft and wo...    technology  \n",
       "4  Google's parent firm Alphabet posted its third...    technology  \n",
       "5  A hospital in Texas, US, live streamed on Face...    technology  \n",
       "6  The University of California, Los Angeles (UCL...    technology  \n",
       "7  MIT researchers developed a new system that us...    technology  \n",
       "8  Bengaluru-based ride-hailing giant Ola is in a...    technology  \n",
       "9  Google owner Alphabet has made an offer to acq...    technology  "
      ]
     },
     "execution_count": 19,
     "metadata": {},
     "output_type": "execute_result"
    }
   ],
   "source": [
    "news_df = build_dataset(seed_urls)\n",
    "news_df.head(10)"
   ]
  },
  {
   "cell_type": "code",
   "execution_count": 20,
   "metadata": {},
   "outputs": [
    {
     "data": {
      "text/plain": [
       "technology    24\n",
       "sports        24\n",
       "world         22\n",
       "Name: news_category, dtype: int64"
      ]
     },
     "execution_count": 20,
     "metadata": {},
     "output_type": "execute_result"
    }
   ],
   "source": [
    "news_df.news_category.value_counts()"
   ]
  },
  {
   "cell_type": "code",
   "execution_count": 21,
   "metadata": {},
   "outputs": [
    {
     "data": {
      "text/html": [
       "<div>\n",
       "<style scoped>\n",
       "    .dataframe tbody tr th:only-of-type {\n",
       "        vertical-align: middle;\n",
       "    }\n",
       "\n",
       "    .dataframe tbody tr th {\n",
       "        vertical-align: top;\n",
       "    }\n",
       "\n",
       "    .dataframe thead th {\n",
       "        text-align: right;\n",
       "    }\n",
       "</style>\n",
       "<table border=\"1\" class=\"dataframe\">\n",
       "  <thead>\n",
       "    <tr style=\"text-align: right;\">\n",
       "      <th></th>\n",
       "      <th>news_headline</th>\n",
       "      <th>news_article</th>\n",
       "      <th>news_category</th>\n",
       "    </tr>\n",
       "  </thead>\n",
       "  <tbody>\n",
       "    <tr>\n",
       "      <th>0</th>\n",
       "      <td>Google brings its '.new' shortcut domains to M...</td>\n",
       "      <td>A year after rolling out '.new' links like 'do...</td>\n",
       "      <td>technology</td>\n",
       "    </tr>\n",
       "    <tr>\n",
       "      <th>1</th>\n",
       "      <td>Apple releases iOS 13.2 with Deep Fusion photo...</td>\n",
       "      <td>Apple has released iOS 13.2 which includes Dee...</td>\n",
       "      <td>technology</td>\n",
       "    </tr>\n",
       "    <tr>\n",
       "      <th>2</th>\n",
       "      <td>Uber unveils new design for its food delivery ...</td>\n",
       "      <td>Uber unveiled the design of its drone for food...</td>\n",
       "      <td>technology</td>\n",
       "    </tr>\n",
       "    <tr>\n",
       "      <th>3</th>\n",
       "      <td>Melinda shares pic of Bill Gates wearing 'fami...</td>\n",
       "      <td>Bill Gates, the Co-founder of Microsoft and wo...</td>\n",
       "      <td>technology</td>\n",
       "    </tr>\n",
       "    <tr>\n",
       "      <th>4</th>\n",
       "      <td>Google owner posts 23% decline in profit, shar...</td>\n",
       "      <td>Google's parent firm Alphabet posted its third...</td>\n",
       "      <td>technology</td>\n",
       "    </tr>\n",
       "  </tbody>\n",
       "</table>\n",
       "</div>"
      ],
      "text/plain": [
       "                                       news_headline  \\\n",
       "0  Google brings its '.new' shortcut domains to M...   \n",
       "1  Apple releases iOS 13.2 with Deep Fusion photo...   \n",
       "2  Uber unveils new design for its food delivery ...   \n",
       "3  Melinda shares pic of Bill Gates wearing 'fami...   \n",
       "4  Google owner posts 23% decline in profit, shar...   \n",
       "\n",
       "                                        news_article news_category  \n",
       "0  A year after rolling out '.new' links like 'do...    technology  \n",
       "1  Apple has released iOS 13.2 which includes Dee...    technology  \n",
       "2  Uber unveiled the design of its drone for food...    technology  \n",
       "3  Bill Gates, the Co-founder of Microsoft and wo...    technology  \n",
       "4  Google's parent firm Alphabet posted its third...    technology  "
      ]
     },
     "execution_count": 21,
     "metadata": {},
     "output_type": "execute_result"
    }
   ],
   "source": [
    "news_df.head()"
   ]
  },
  {
   "cell_type": "code",
   "execution_count": null,
   "metadata": {},
   "outputs": [],
   "source": []
  }
 ],
 "metadata": {
  "kernelspec": {
   "display_name": "Python 3",
   "language": "python",
   "name": "python3"
  },
  "language_info": {
   "codemirror_mode": {
    "name": "ipython",
    "version": 3
   },
   "file_extension": ".py",
   "mimetype": "text/x-python",
   "name": "python",
   "nbconvert_exporter": "python",
   "pygments_lexer": "ipython3",
   "version": "3.6.7"
  }
 },
 "nbformat": 4,
 "nbformat_minor": 2
}
